{
 "cells": [
  {
   "cell_type": "code",
   "execution_count": null,
   "id": "42aff2f4",
   "metadata": {},
   "outputs": [
    {
     "name": "stdout",
     "output_type": "stream",
     "text": [
      "hello gutta\n"
     ]
    }
   ],
   "source": [
    "print('hello gutta')"
   ]
  },
  {
   "cell_type": "code",
   "execution_count": 1,
   "id": "10b19b88",
   "metadata": {},
   "outputs": [
    {
     "name": "stdout",
     "output_type": "stream",
     "text": [
      "hello mathias"
     ]
    }
   ],
   "source": [
    "print(\"hello mathias\")"
   ]
  }
 ],
 "metadata": {
  "kernelspec": {
   "display_name": "Julia 1.11.6",
   "language": "julia",
   "name": "julia-1.11"
  },
  "language_info": {
   "file_extension": ".jl",
   "mimetype": "application/julia",
   "name": "julia",
   "version": "1.11.6"
  }
 },
 "nbformat": 4,
 "nbformat_minor": 5
}
