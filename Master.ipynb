{
 "cells": [
  {
   "cell_type": "markdown",
   "id": "ce0a7501",
   "metadata": {},
   "source": [
    "# \"insert project title here\""
   ]
  },
  {
   "cell_type": "code",
   "execution_count": 2,
   "id": "9fb9113d",
   "metadata": {},
   "outputs": [],
   "source": [
    "#Downloading dependencies\n",
    "using JuMP \n",
    "using Clp\n",
    "using CSV\n",
    "using DataFrames\n",
    "using Plots\n"
   ]
  },
  {
   "cell_type": "markdown",
   "id": "61c494b4",
   "metadata": {},
   "source": [
    "# 1. Data installation"
   ]
  },
  {
   "cell_type": "markdown",
   "id": "5548de32",
   "metadata": {},
   "source": []
  },
  {
   "cell_type": "markdown",
   "id": "13ae0965",
   "metadata": {},
   "source": [
    "# 2. EDA"
   ]
  },
  {
   "cell_type": "markdown",
   "id": "49e4b0a0",
   "metadata": {},
   "source": []
  },
  {
   "cell_type": "markdown",
   "id": "71a10f14",
   "metadata": {},
   "source": [
    "# 3. Modelling"
   ]
  },
  {
   "cell_type": "markdown",
   "id": "ffc7e576",
   "metadata": {},
   "source": []
  }
 ],
 "metadata": {
  "kernelspec": {
   "display_name": "Julia 1.11.6",
   "language": "julia",
   "name": "julia-1.11"
  },
  "language_info": {
   "file_extension": ".jl",
   "mimetype": "application/julia",
   "name": "julia",
   "version": "1.11.6"
  }
 },
 "nbformat": 4,
 "nbformat_minor": 5
}
